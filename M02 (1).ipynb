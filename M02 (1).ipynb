{
 "cells": [
  {
   "cell_type": "code",
   "execution_count": 12,
   "id": "8134065b",
   "metadata": {},
   "outputs": [
    {
     "name": "stdout",
     "output_type": "stream",
     "text": [
      "too low\n",
      "pumpkins are small\n",
      "cherries are small\n",
      "3\n",
      "2\n",
      "1\n",
      "0\n",
      "too low\n",
      "too low\n",
      "too low\n",
      "too low\n",
      "too low\n",
      "too low\n",
      "found it!\n",
      "too low\n",
      "too low\n",
      "too low\n",
      "too low\n",
      "too low\n",
      "found it!\n"
     ]
    }
   ],
   "source": [
    "secret = 7\n",
    "guess = 4\n",
    "if guess < secret:\n",
    "    print(\"too low\")\n",
    "elif guess > secret:\n",
    "    print(\"too high\")\n",
    "else: \n",
    "    print(\"just right\")\n",
    "    \n",
    "small = True\n",
    "green = True\n",
    "cherry = small\n",
    "pea = small\n",
    "watermleon = green\n",
    "pumpkin = small\n",
    "\n",
    "if pumpkin is True:\n",
    "    print(\"pumpkins are small\")\n",
    "elif watermelon is True:\n",
    "    print(\"watermelons are green\")\n",
    "if cherry is True:\n",
    "    print(\"cherries are small\")\n",
    "elif pea is True:\n",
    "    print(\"peas are small\")\n",
    "    \n",
    "nums = [3,2,1,0]\n",
    "for i in nums:\n",
    "    print(i)\n",
    "guess_me = 7\n",
    "number = 1\n",
    "while number <= guess_me:\n",
    "    if number < guess_me:\n",
    "        print(\"too low\")\n",
    "    elif number > guess_me:\n",
    "        print(\"oops\")\n",
    "        break\n",
    "    elif number == guess_me:\n",
    "        print(\"found it!\")\n",
    "        break\n",
    "    number+=1\n",
    "\n",
    "guess_me = 5\n",
    "for number in range(10):\n",
    "    if number < guess_me:\n",
    "        print(\"too low\")\n",
    "    elif number == guess_me:\n",
    "        print(\"found it!\")\n",
    "        break\n",
    "    elif number > guess_me:\n",
    "        print(\"oops\")\n",
    "        break"
   ]
  },
  {
   "cell_type": "code",
   "execution_count": null,
   "id": "3cf3e79d",
   "metadata": {},
   "outputs": [],
   "source": []
  }
 ],
 "metadata": {
  "kernelspec": {
   "display_name": "Python 3 (ipykernel)",
   "language": "python",
   "name": "python3"
  },
  "language_info": {
   "codemirror_mode": {
    "name": "ipython",
    "version": 3
   },
   "file_extension": ".py",
   "mimetype": "text/x-python",
   "name": "python",
   "nbconvert_exporter": "python",
   "pygments_lexer": "ipython3",
   "version": "3.9.13"
  }
 },
 "nbformat": 4,
 "nbformat_minor": 5
}
